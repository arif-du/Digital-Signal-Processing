{
  "cells": [
    {
      "cell_type": "markdown",
      "source": [
        "# **Experiment-7(a): To plot the poles and zeros of a transfer function H(z) using Python**"
      ],
      "metadata": {
        "id": "p_yXcu46azWQ"
      }
    },
    {
      "cell_type": "markdown",
      "source": [
        "The **transfer function H(z)** is defined in terms of its numerator and denominator coefficients using NumPy arrays. "
      ],
      "metadata": {
        "id": "0pw6Gzteba_2"
      }
    },
    {
      "cell_type": "markdown",
      "source": [
        "The **np.roots()** function is used to find the roots (zeros or poles) of the polynomial with the given coefficients. "
      ],
      "metadata": {
        "id": "iBrvFtSIbh2_"
      }
    },
    {
      "cell_type": "markdown",
      "source": [
        "The **np.roots()** function is used to find the roots (zeros or poles) of the polynomial with the given coefficients. "
      ],
      "metadata": {
        "id": "xkyA4oEZbkRh"
      }
    },
    {
      "cell_type": "markdown",
      "source": [
        "Then, the matplotlib library is used to create a new figure and plot the zeros and poles on the z-plane using the **plot()** function."
      ],
      "metadata": {
        "id": "KSJ-aa7SbwqR"
      }
    },
    {
      "cell_type": "markdown",
      "source": [
        "The **xlim()** and **ylim()** functions are used to set the limits of the plot, and the xlabel(), ylabel(), and title() functions are used to label the axes and the title."
      ],
      "metadata": {
        "id": "w7KFsmThcHJF"
      }
    },
    {
      "cell_type": "markdown",
      "source": [
        "Finally, the **legend()** function is used to add a legend to the plot, and the show() function is used to display the plot."
      ],
      "metadata": {
        "id": "wvzEbihecMS1"
      }
    },
    {
      "cell_type": "markdown",
      "source": [
        "Note that the plot() function is used with the **'o' marker** to plot the zeros and the **'x' marker** to plot the poles. The **k-- argument** is used to plot a dashed line along the real and imaginary axes."
      ],
      "metadata": {
        "id": "hI_3Se6EcWBk"
      }
    },
    {
      "cell_type": "code",
      "source": [
        "import numpy as np\n",
        "import matplotlib.pyplot as plt\n",
        "\n",
        "# define the transfer function H(z) in terms of z\n",
        "num = np.array([1, 2, 3])  # numerator coefficients\n",
        "den = np.array([1, -0.5, 0.25])  # denominator coefficients\n",
        "\n",
        "# find the zeros of H(z)\n",
        "zeros = np.roots(num)\n",
        "\n",
        "# find the poles of H(z)\n",
        "poles = np.roots(den)\n",
        "\n",
        "# plot the poles and zeros on the z-plane\n",
        "plt.figure(figsize=(6,6))\n",
        "plt.plot(np.real(zeros), np.imag(zeros), 'o', markersize=10, label='zeros')\n",
        "plt.plot(np.real(poles), np.imag(poles), 'x', markersize=10, label='poles')\n",
        "plt.plot([-1, 1], [0, 0], 'k--', alpha=0.5)\n",
        "plt.plot([0, 0], [-1, 1], 'k--', alpha=0.5)\n",
        "plt.xlim([-1.5, 1.5])\n",
        "plt.ylim([-1.5, 1.5])\n",
        "plt.xlabel('Real Part')\n",
        "plt.ylabel('Imaginary Part')\n",
        "plt.title('Pole-Zero Plot')\n",
        "plt.legend()\n",
        "plt.show()\n"
      ],
      "metadata": {
        "colab": {
          "base_uri": "https://localhost:8080/",
          "height": 404
        },
        "id": "0P98uMfKLKgx",
        "outputId": "14cd64c7-8c7c-404c-b31e-50247ac11f99"
      },
      "execution_count": 1,
      "outputs": [
        {
          "output_type": "display_data",
          "data": {
            "text/plain": [
              "<Figure size 432x432 with 1 Axes>"
            ],
            "image/png": "[encoded data removed]"
          },
          "metadata": {
            "needs_background": "light"
          }
        }
      ]
    },
    {
      "cell_type": "markdown",
      "source": [
        "# **Question: What do you mean by the following two lines? **\n",
        "\n",
        "plt.plot(np.real(zeros), np.imag(zeros), 'o', markersize=10, label='zeros') \n",
        "\n",
        "plt.plot(np.real(poles), np.imag(poles), 'x', markersize=10, label='poles') \n",
        "\n",
        "These two lines of code plot the zeros and poles of the transfer function on the pole-zero plot. Specifically, the plt.plot() function is used twice to plot the zeros and poles separately."
      ],
      "metadata": {
        "id": "dwYdfBsqdHBa"
      }
    },
    {
      "cell_type": "markdown",
      "source": [
        "plt.plot(np.real(zeros), np.imag(zeros), 'o', markersize=10, label='zeros')\n",
        "\n",
        "This line plots the zeros on the pole-zero plot. The np.real(zeros) and np.imag(zeros) functions extract the real and imaginary parts of the zeros, respectively. The 'o' argument specifies the marker style (a circle), and the markersize=10 argument specifies the size of the markers. The label='zeros' argument specifies the label for the legend."
      ],
      "metadata": {
        "id": "iyo6w9NSdrlP"
      }
    },
    {
      "cell_type": "markdown",
      "source": [
        "plt.plot(np.real(poles), np.imag(poles), 'x', markersize=10, label='poles')\n",
        "\n",
        "This line plots the poles on the pole-zero plot. The np.real(poles) and np.imag(poles) functions extract the real and imaginary parts of the poles, respectively. The 'x' argument specifies the marker style (an x), and the markersize=10 argument specifies the size of the markers. The label='poles' argument specifies the label for the legend."
      ],
      "metadata": {
        "id": "72UNrV2Id0M-"
      }
    },
    {
      "cell_type": "markdown",
      "source": [
        "By plotting the zeros and poles separately, you can easily distinguish between them on the pole-zero plot. The legend also allows you to see which markers correspond to the zeros and which correspond to the poles."
      ],
      "metadata": {
        "id": "aC1Kf4hcd9wl"
      }
    },
    {
      "cell_type": "markdown",
      "source": [
        "plt.plot([-1, 1], [0, 0], 'k--', alpha=0.5) \n",
        "\n",
        "plt.plot([0, 0], [-1, 1], 'k--', alpha=0.5)\n",
        "\n",
        "The two lines of code you are asking about plot dashed lines along the real and imaginary axes of the z-plane. Specifically, the first line plots a dashed horizontal line at y=0 (the real axis), and the second line plots a dashed vertical line at x=0 (the imaginary axis).\n",
        "\n",
        "Here's a breakdown of the two lines:\n",
        "\n",
        "plt.plot([-1, 1], [0, 0], 'k--', alpha=0.5)\n",
        "\n",
        "This line plots a dashed horizontal line along the real axis, from x=-1 to x=1. The arguments [-1, 1] and [0, 0] specify the x-coordinates and y-coordinates of the two endpoints of the line, respectively. The 'k--' argument specifies the line style (black dashed line), and the alpha=0.5 argument specifies the transparency of the line (50% opaque).\n",
        "\n",
        "plt.plot([0, 0], [-1, 1], 'k--', alpha=0.5)\n",
        "\n",
        "This line plots a dashed vertical line along the imaginary axis, from y=-1 to y=1. The arguments [0, 0] and [-1, 1] specify the x-coordinates and y-coordinates of the two endpoints of the line, respectively. The 'k--' argument specifies the line style (black dashed line), and the alpha=0.5 argument specifies the transparency of the line (50% opaque)."
      ],
      "metadata": {
        "id": "m7seGX1feV5g"
      }
    },
    {
      "cell_type": "markdown",
      "source": [
        "plt.xlim([-1.5, 1.5]) plt.ylim([-1.5, 1.5])\n",
        "\n",
        "These two lines of code set the limits of the x-axis and y-axis of the pole-zero plot. Specifically, the plt.xlim() function sets the limits of the x-axis, and the plt.ylim() function sets the limits of the y-axis.\n",
        "\n",
        "plt.xlim([-1.5, 1.5])\n",
        "\n",
        "This line sets the limits of the x-axis to be from -1.5 to 1.5. This means that the pole-zero plot will only display poles and zeros that fall within this range.\n",
        "\n",
        "plt.ylim([-1.5, 1.5])\n",
        "\n",
        "This line sets the limits of the y-axis to be from -1.5 to 1.5. This means that the pole-zero plot will only display poles and zeros that fall within this range.\n",
        "\n",
        "By setting the limits of the x-axis and y-axis in this way, you can ensure that the pole-zero plot is centered on the origin and that all of the poles and zeros are visible in the plot."
      ],
      "metadata": {
        "id": "93b8yAmTezla"
      }
    },
    {
      "cell_type": "markdown",
      "source": [
        "# **Experiment-7(b): To determine z-transform of a discrete time sequence**"
      ],
      "metadata": {
        "id": "faaIBFgHcpq0"
      }
    },
    {
      "cell_type": "markdown",
      "source": [
        "In this experiment, we define the sequence as x. \n",
        "\n",
        "We then use the **freqz() function** to compute the frequency response of the sequence, which consists of the frequency values w and the complex frequency response values h. \n",
        "\n",
        "We then use the **polyval() function** from the numpy module to evaluate the complex polynomial corresponding to the frequency response at points on the unit circle in the complex plane, which gives us the z-transform of the sequence.\n",
        "\n",
        "Finally, we print the z-transform to the console.\n",
        "\n",
        "Note that the freqz() function assumes that the input sequence is causal and has finite length. If your sequence is not causal or has infinite length, you will need to modify it before calling freqz()."
      ],
      "metadata": {
        "id": "nXQ7bx1-c4XO"
      }
    },
    {
      "cell_type": "code",
      "source": [
        "import numpy as np\n",
        "from scipy.signal import freqz\n",
        "\n",
        "# Define the sequence\n",
        "x = np.array([1, 2, 3, 4, 5])\n",
        "\n",
        "# Compute the frequency response of the sequence\n",
        "w, h = freqz(x)\n",
        "\n",
        "# Compute the z-transform of the sequence\n",
        "z = np.polyval(h[::-1], np.exp(1j * w))\n",
        "\n",
        "# Print the z-transform\n",
        "print(\"Z-Transform: \", z)"
      ],
      "metadata": {
        "colab": {
          "base_uri": "https://localhost:8080/",
          "height": 0
        },
        "id": "SrkgZuQIYbhr",
        "outputId": "75ef484d-97f9-430c-cd7c-2d8f5986e997"
      },
      "execution_count": 2,
      "outputs": [
        {
          "output_type": "stream",
          "name": "stdout",
          "text": [
            "Z-Transform:  [ 518.-1.08648343e+03j 1033.-1.19513013e+03j 1542.-6.51896602e+02j\n",
            " 2057.-5.43249895e+02j 2566.+1.52108662e+03j    9.+2.02086637e+03j\n",
            "    6.+5.64956329e+02j    9.+7.85344817e+02j    6.+3.53853066e+02j\n",
            "    9.+5.01802235e+02j    6.+2.58642895e+02j    9.+3.71027819e+02j\n",
            "    6.+2.04070562e+02j    9.+2.94958185e+02j    6.+1.68601484e+02j\n",
            "    9.+2.44996333e+02j    6.+1.43668142e+02j    9.+2.09598585e+02j\n",
            "    6.+1.25170654e+02j    9.+1.83177161e+02j    6.+1.10895991e+02j\n",
            "    9.+1.62687800e+02j    6.+9.95430003e+01j    9.+1.46326889e+02j\n",
            "    6.+9.02960204e+01j    9.+1.32956513e+02j    6.+8.26175166e+01j\n",
            "    9.+1.21822667e+02j    6.+7.61387320e+01j    9.+1.12405661e+02j\n",
            "    6.+7.05982099e+01j    9.+1.04335515e+02j    6.+6.58053827e+01j\n",
            "    9.+9.73415964e+01j    6.+6.16180547e+01j    9.+9.12213266e+01j\n",
            "    6.+5.79279610e+01j    9.+8.58200304e+01j    6.+5.46512104e+01j\n",
            "    9.+8.10175516e+01j    6.+5.17217884e+01j    9.+7.67191226e+01j\n",
            "    6.+4.90870342e+01j    9.+7.28489895e+01j    6.+4.67044248e+01j\n",
            "    9.+6.93458671e+01j    6.+4.45392470e+01j    9.+6.61596394e+01j\n",
            "    6.+4.25628822e+01j    9.+6.32489243e+01j    6.+4.07515246e+01j\n",
            "    9.+6.05792490e+01j    6.+3.90852103e+01j    9.+5.81216650e+01j\n",
            "    6.+3.75470718e+01j    9.+5.58516834e+01j    6.+3.61227599e+01j\n",
            "    9.+5.37484477e+01j    6.+3.47999907e+01j    9.+5.17940838e+01j\n",
            "    6.+3.35681869e+01j    9.+4.99731852e+01j    6.+3.24181911e+01j\n",
            "    9.+4.82724012e+01j    6.+3.13420351e+01j    9.+4.66801048e+01j\n",
            "    6.+3.03327534e+01j    9.+4.51861232e+01j    6.+2.93842297e+01j\n",
            "    9.+4.37815173e+01j    6.+2.84910716e+01j    9.+4.24584001e+01j\n",
            "    6.+2.76485064e+01j    9.+4.12097859e+01j    6.+2.68522949e+01j\n",
            "    9.+4.00294658e+01j    6.+2.60986583e+01j    9.+3.89119021e+01j\n",
            "    6.+2.53842178e+01j    9.+3.78521399e+01j    6.+2.47059429e+01j\n",
            "    9.+3.68457328e+01j    6.+2.40611073e+01j    9.+3.58886788e+01j\n",
            "    6.+2.34472525e+01j    9.+3.49773667e+01j    6.+2.28621546e+01j\n",
            "    9.+3.41085287e+01j    6.+2.23037980e+01j    9.+3.32792014e+01j\n",
            "    6.+2.17703507e+01j    9.+3.24866905e+01j    6.+2.12601446e+01j\n",
            "    9.+3.17285411e+01j    6.+2.07716569e+01j    9.+3.10025120e+01j\n",
            "    6.+2.03034952e+01j    9.+3.03065525e+01j    6.+1.98543833e+01j\n",
            "    9.+2.96387828e+01j    6.+1.94231499e+01j    9.+2.89974764e+01j\n",
            "    6.+1.90087175e+01j    9.+2.83810450e+01j    6.+1.86100934e+01j\n",
            "    9.+2.77880247e+01j    6.+1.82263617e+01j    9.+2.72170644e+01j\n",
            "    6.+1.78566756e+01j    9.+2.66669146e+01j    6.+1.75002515e+01j\n",
            "    9.+2.61364185e+01j    6.+1.71563628e+01j    9.+2.56245035e+01j\n",
            "    6.+1.68243351e+01j    9.+2.51301733e+01j    6.+1.65035412e+01j\n",
            "    9.+2.46525016e+01j    6.+1.61933975e+01j    9.+2.41906260e+01j\n",
            "    6.+1.58933601e+01j    9.+2.37437426e+01j    6.+1.56029214e+01j\n",
            "    9.+2.33111007e+01j    6.+1.53216070e+01j    9.+2.28919992e+01j\n",
            "    6.+1.50489735e+01j    9.+2.24857820e+01j    6.+1.47846054e+01j\n",
            "    9.+2.20918346e+01j    6.+1.45281136e+01j    9.+2.17095810e+01j\n",
            "    6.+1.42791326e+01j    9.+2.13384805e+01j    6.+1.40373193e+01j\n",
            "    9.+2.09780251e+01j    6.+1.38023513e+01j    9.+2.06277374e+01j\n",
            "    6.+1.35739248e+01j    9.+2.02871676e+01j    6.+1.33517540e+01j\n",
            "    9.+1.99558923e+01j    6.+1.31355692e+01j    9.+1.96335121e+01j\n",
            "    6.+1.29251161e+01j    9.+1.93196502e+01j    6.+1.27201546e+01j\n",
            "    9.+1.90139506e+01j    6.+1.25204575e+01j    9.+1.87160767e+01j\n",
            "    6.+1.23258101e+01j    9.+1.84257102e+01j    6.+1.21360093e+01j\n",
            "    9.+1.81425499e+01j    6.+1.19508623e+01j    9.+1.78663101e+01j\n",
            "    6.+1.17701867e+01j    9.+1.75967201e+01j    6.+1.15938092e+01j\n",
            "    9.+1.73335230e+01j    6.+1.14215656e+01j    9.+1.70764750e+01j\n",
            "    6.+1.12532995e+01j    9.+1.68253444e+01j    6.+1.10888626e+01j\n",
            "    9.+1.65799108e+01j    6.+1.09281137e+01j    9.+1.63399647e+01j\n",
            "    6.+1.07709183e+01j    9.+1.61053066e+01j    6.+1.06171484e+01j\n",
            "    9.+1.58757464e+01j    6.+1.04666822e+01j    9.+1.56511031e+01j\n",
            "    6.+1.03194031e+01j    9.+1.54312040e+01j    6.+1.01752004e+01j\n",
            "    9.+1.52158843e+01j    6.+1.00339680e+01j    9.+1.50049868e+01j\n",
            "    6.+9.89560490e+00j    9.+1.47983610e+01j    6.+9.76001432e+00j\n",
            "    9.+1.45958636e+01j    6.+9.62710389e+00j    9.+1.43973571e+01j\n",
            "    6.+9.49678518e+00j    9.+1.42027101e+01j    6.+9.36897358e+00j\n",
            "    9.+1.40117971e+01j    6.+9.24358810e+00j    9.+1.38244975e+01j\n",
            "    6.+9.12055111e+00j    9.+1.36406960e+01j    6.+8.99978824e+00j\n",
            "    9.+1.34602821e+01j    6.+8.88122816e+00j    9.+1.32831498e+01j\n",
            "    6.+8.76480246e+00j    9.+1.31091973e+01j    6.+8.65044548e+00j\n",
            "    9.+1.29383269e+01j    6.+8.53809419e+00j    9.+1.27704451e+01j\n",
            "    6.+8.42768802e+00j    9.+1.26054617e+01j    6.+8.31916881e+00j\n",
            "    9.+1.24432902e+01j    6.+8.21248061e+00j    9.+1.22838474e+01j\n",
            "    6.+8.10756964e+00j    9.+1.21270533e+01j    6.+8.00438415e+00j\n",
            "    9.+1.19728309e+01j    6.+7.90287434e+00j    9.+1.18211062e+01j\n",
            "    6.+7.80299225e+00j    9.+1.16718077e+01j    6.+7.70469170e+00j\n",
            "    9.+1.15248668e+01j    6.+7.60792820e+00j    9.+1.13802173e+01j\n",
            "    6.+7.51265884e+00j    9.+1.12377953e+01j    6.+7.41884229e+00j\n",
            "    9.+1.10975393e+01j    6.+7.32643864e+00j    9.+1.09593899e+01j\n",
            "    6.+7.23540943e+00j    9.+1.08232898e+01j    6.+7.14571750e+00j\n",
            "    9.+1.06891838e+01j    6.+7.05732699e+00j    9.+1.05570184e+01j\n",
            "    6.+6.97020327e+00j    9.+1.04267421e+01j    6.+6.88431288e+00j\n",
            "    9.+1.02983051e+01j    6.+6.79962348e+00j    9.+1.01716592e+01j\n",
            "    6.+6.71610380e+00j    9.+1.00467579e+01j    6.+6.63372363e+00j\n",
            "    9.+9.92355609e+00j    6.+6.55245371e+00j    9.+9.80201033e+00j\n",
            "    6.+6.47226575e+00j    9.+9.68207843e+00j    6.+6.39313238e+00j\n",
            "    9.+9.56371962e+00j    6.+6.31502708e+00j    9.+9.44689440e+00j\n",
            "    6.+6.23792417e+00j    9.+9.33156453e+00j    6.+6.16179879e+00j\n",
            "    9.+9.21769296e+00j    6.+6.08662683e+00j    9.+9.10524378e+00j\n",
            "    6.+6.01238495e+00j    9.+8.99418220e+00j    6.+5.93905050e+00j\n",
            "    9.+8.88447448e+00j    6.+5.86660151e+00j    9.+8.77608790e+00j\n",
            "    6.+5.79501669e+00j    9.+8.66899072e+00j    6.+5.72427538e+00j\n",
            "    9.+8.56315214e+00j    6.+5.65435752e+00j    9.+8.45854228e+00j\n",
            "    6.+5.58524364e+00j    9.+8.35513212e+00j    6.+5.51691483e+00j\n",
            "    9.+8.25289348e+00j    6.+5.44935274e+00j    9.+8.15179899e+00j\n",
            "    6.+5.38253953e+00j    9.+8.05182208e+00j    6.+5.31645786e+00j\n",
            "    9.+7.95293690e+00j    6.+5.25109090e+00j    9.+7.85511834e+00j\n",
            "    6.+5.18642226e+00j    9.+7.75834198e+00j    6.+5.12243603e+00j\n",
            "    9.+7.66258409e+00j    6.+5.05911671e+00j    9.+7.56782158e+00j\n",
            "    6.+4.99644924e+00j    9.+7.47403197e+00j    6.+4.93441896e+00j\n",
            "    9.+7.38119340e+00j    6.+4.87301159e+00j    9.+7.28928460e+00j\n",
            "    6.+4.81221325e+00j    9.+7.19828485e+00j    6.+4.75201040e+00j\n",
            "    9.+7.10817397e+00j    6.+4.69238988e+00j    9.+7.01893232e+00j\n",
            "    6.+4.63333885e+00j    9.+6.93054075e+00j    6.+4.57484481e+00j\n",
            "    9.+6.84298062e+00j    6.+4.51689557e+00j    9.+6.75623375e+00j\n",
            "    6.+4.45947924e+00j    9.+6.67028241e+00j    6.+4.40258425e+00j\n",
            "    9.+6.58510932e+00j    6.+4.34619931e+00j    9.+6.50069764e+00j\n",
            "    6.+4.29031338e+00j    9.+6.41703093e+00j    6.+4.23491574e+00j\n",
            "    9.+6.33409315e+00j    6.+4.17999588e+00j    9.+6.25186865e+00j\n",
            "    6.+4.12554357e+00j    9.+6.17034216e+00j    6.+4.07154882e+00j\n",
            "    9.+6.08949876e+00j    6.+4.01800186e+00j    9.+6.00932389e+00j\n",
            "    6.+3.96489317e+00j    9.+5.92980333e+00j    6.+3.91221344e+00j\n",
            "    9.+5.85092319e+00j    6.+3.85995357e+00j    9.+5.77266989e+00j\n",
            "    6.+3.80810467e+00j    9.+5.69503016e+00j    6.+3.75665806e+00j\n",
            "    9.+5.61799104e+00j    6.+3.70560524e+00j    9.+5.54153986e+00j\n",
            "    6.+3.65493790e+00j    9.+5.46566420e+00j    6.+3.60464794e+00j\n",
            "    9.+5.39035196e+00j    6.+3.55472739e+00j    9.+5.31559126e+00j\n",
            "    6.+3.50516849e+00j    9.+5.24137050e+00j    6.+3.45596363e+00j\n",
            "    9.+5.16767833e+00j    6.+3.40710535e+00j    9.+5.09450363e+00j\n",
            "    6.+3.35858639e+00j    9.+5.02183550e+00j    6.+3.31039958e+00j\n",
            "    9.+4.94966330e+00j    6.+3.26253795e+00j    9.+4.87797659e+00j\n",
            "    6.+3.21499464e+00j    9.+4.80676513e+00j    6.+3.16776295e+00j\n",
            "    9.+4.73601891e+00j    6.+3.12083629e+00j    9.+4.66572811e+00j\n",
            "    6.+3.07420823e+00j    9.+4.59588309e+00j    6.+3.02787245e+00j\n",
            "    9.+4.52647443e+00j    6.+2.98182274e+00j    9.+4.45749287e+00j\n",
            "    6.+2.93605303e+00j    9.+4.38892933e+00j    6.+2.89055736e+00j\n",
            "    9.+4.32077490e+00j    6.+2.84532988e+00j    9.+4.25302085e+00j\n",
            "    6.+2.80036485e+00j    9.+4.18565860e+00j    6.+2.75565664e+00j\n",
            "    9.+4.11867974e+00j    6.+2.71119971e+00j    9.+4.05207600e+00j\n",
            "    6.+2.66698863e+00j    9.+3.98583926e+00j    6.+2.62301806e+00j\n",
            "    9.+3.91996155e+00j    6.+2.57928277e+00j    9.+3.85443503e+00j\n",
            "    6.+2.53577760e+00j    9.+3.78925202e+00j    6.+2.49249750e+00j\n",
            "    9.+3.72440495e+00j    6.+2.44943747e+00j    9.+3.65988637e+00j\n",
            "    6.+2.40659264e+00j    9.+3.59568899e+00j    6.+2.36395819e+00j\n",
            "    9.+3.53180560e+00j    6.+2.32152939e+00j    9.+3.46822914e+00j\n",
            "    6.+2.27930158e+00j    9.+3.40495264e+00j    6.+2.23727017e+00j\n",
            "    9.+3.34196926e+00j    6.+2.19543067e+00j    9.+3.27927224e+00j\n",
            "    6.+2.15377863e+00j    9.+3.21685496e+00j    6.+2.11230967e+00j\n",
            "    9.+3.15471088e+00j    6.+2.07101949e+00j    9.+3.09283355e+00j\n",
            "    6.+2.02990384e+00j    9.+3.03121664e+00j    6.+1.98895855e+00j\n",
            "    9.+2.96985389e+00j    6.+1.94817949e+00j    9.+2.90873914e+00j\n",
            "    6.+1.90756261e+00j    9.+2.84786631e+00j    6.+1.86710389e+00j\n",
            "    9.+2.78722942e+00j    6.+1.82679938e+00j    9.+2.72682255e+00j\n",
            "    6.+1.78664519e+00j    9.+2.66663988e+00j    6.+1.74663747e+00j\n",
            "    9.+2.60667565e+00j    6.+1.70677243e+00j    9.+2.54692418e+00j\n",
            "    6.+1.66704631e+00j    9.+2.48737987e+00j    6.+1.62745541e+00j\n",
            "    9.+2.42803718e+00j    6.+1.58799608e+00j    9.+2.36889064e+00j\n",
            "    6.+1.54866471e+00j    9.+2.30993486e+00j    6.+1.50945773e+00j\n",
            "    9.+2.25116448e+00j    6.+1.47037161e+00j    9.+2.19257423e+00j\n",
            "    6.+1.43140287e+00j    9.+2.13415890e+00j    6.+1.39254804e+00j\n",
            "    9.+2.07591331e+00j    6.+1.35380373e+00j    9.+2.01783237e+00j\n",
            "    6.+1.31516656e+00j    9.+1.95991102e+00j    6.+1.27663318e+00j\n",
            "    9.+1.90214426e+00j    6.+1.23820029e+00j    9.+1.84452715e+00j\n",
            "    6.+1.19986460e+00j    9.+1.78705477e+00j    6.+1.16162289e+00j\n",
            "    9.+1.72972227e+00j    6.+1.12347192e+00j    9.+1.67252483e+00j\n",
            "    6.+1.08540853e+00j    9.+1.61545770e+00j    6.+1.04742954e+00j\n",
            "    9.+1.55851614e+00j    6.+1.00953183e+00j    9.+1.50169546e+00j\n",
            "    6.+9.71712296e-01j    9.+1.44499102e+00j    6.+9.33967852e-01j\n",
            "    9.+1.38839820e+00j    6.+8.96295443e-01j    9.+1.33191242e+00j\n",
            "    6.+8.58692034e-01j    9.+1.27552913e+00j    6.+8.21154611e-01j\n",
            "    9.+1.21924383e+00j    6.+7.83680182e-01j    9.+1.16305203e+00j\n",
            "    6.+7.46265773e-01j    9.+1.10694927e+00j    6.+7.08908430e-01j\n",
            "    9.+1.05093114e+00j    6.+6.71605215e-01j    9.+9.94993223e-01j\n",
            "    6.+6.34353207e-01j    9.+9.39131151e-01j    6.+5.97149501e-01j\n",
            "    9.+8.83340571e-01j    6.+5.59991209e-01j    9.+8.27617151e-01j\n",
            "    6.+5.22875452e-01j    9.+7.71956582e-01j    6.+4.85799369e-01j\n",
            "    9.+7.16354573e-01j    6.+4.48760107e-01j    9.+6.60806851e-01j\n",
            "    6.+4.11754828e-01j    9.+6.05309159e-01j    6.+3.74780700e-01j\n",
            "    9.+5.49857255e-01j    6.+3.37834905e-01j    9.+4.94446914e-01j\n",
            "    6.+3.00914631e-01j    9.+4.39073919e-01j    6.+2.64017073e-01j\n",
            "    9.+3.83734067e-01j    6.+2.27139435e-01j    9.+3.28423165e-01j\n",
            "    6.+1.90278926e-01j    9.+2.73137028e-01j    6.+1.53432760e-01j\n",
            "    9.+2.17871478e-01j    6.+1.16598155e-01j    9.+1.62622344e-01j\n",
            "    6.+7.97723340e-02j    9.+1.07385461e-01j]\n"
          ]
        }
      ]
    },
    {
      "cell_type": "markdown",
      "source": [
        "# Question: What do you mean by the following two lines?\n",
        "\n",
        "In the line of code z = np.polyval(h[::-1], np.exp(1j * w)), the polyval() function from the numpy module is used to compute the z-transform of a discrete-time signal from its frequency response.\n",
        "\n",
        "The polyval() function evaluates a polynomial at specific points, which is useful for evaluating the frequency response of a digital filter at specific frequencies. In this case, we use it to evaluate the complex polynomial corresponding to the frequency response at points on the unit circle in the complex plane, which gives us the z-transform of the signal.\n",
        "\n",
        "The h[::-1] argument in the polyval() function is used to reverse the order of the coefficients in the h array, so that they are in the correct order for use in polyval(). The np.exp(1j * w) argument generates an array of complex numbers corresponding to points on the unit circle in the complex plane.\n",
        "\n",
        "The resulting z variable contains the z-transform of the signal, which is a complex-valued array that represents the signal in the z-domain. The z-transform is a powerful tool in digital signal processing, as it can be used to analyze and design digital filters, perform digital signal processing operations, and more."
      ],
      "metadata": {
        "id": "YrAQNhhGfls1"
      }
    },
    {
      "cell_type": "markdown",
      "source": [
        "# **Experiment-7(c): To determine the ROC of the z-transformed signal**"
      ],
      "metadata": {
        "id": "bFtpYT0hfxCk"
      }
    },
    {
      "cell_type": "markdown",
      "source": [
        "In this experiment, we define the numerator and denominator coefficients of the transfer function as num and den, respectively. \n",
        "\n",
        "We then use the tf2zpk() function to convert the transfer function to its zeros, poles, and gain representation. We print the zeros, poles, and gain to the console to verify that the conversion was successful.\n",
        "\n",
        "We then determine the ROC of the transfer function by comparing the maximum magnitude of the poles and zeros. If the maximum magnitude of the poles is greater than the maximum magnitude of the zeros, then the ROC is outside a circle with radius equal to the maximum magnitude of the poles. If the maximum magnitude of the poles is less than the maximum magnitude of the zeros, then the ROC is inside a circle with radius equal to the maximum magnitude of the zeros. If the maximum magnitudes are equal, then the ROC is an annulus.\n",
        "\n",
        "Finally, we print the ROC to the console.\n",
        "\n",
        "Note that the tf2zpk() function assumes that the transfer function is in standard form, where the highest power of z in the denominator is one less than the highest power of z in the numerator. If your transfer function is not in this form, you will need to manipulate it before calling tf2zpk()."
      ],
      "metadata": {
        "id": "Z5-Jb3KFf9SM"
      }
    },
    {
      "cell_type": "code",
      "source": [
        "import numpy as np\n",
        "from scipy.signal import tf2zpk\n",
        "\n",
        "# Define the transfer function coefficients\n",
        "num = [1, 2, 3]\n",
        "den = [4, 5, 6]\n",
        "\n",
        "# Convert the transfer function to its zeros, poles, and gain representation\n",
        "zeros, poles, gain = tf2zpk(num, den)\n",
        "\n",
        "# Print the zeros, poles, and gain\n",
        "print(\"Zeros: \", zeros)\n",
        "print(\"Poles: \", poles)\n",
        "print(\"Gain: \", gain)\n",
        "\n",
        "# Find the ROC of the transfer function\n",
        "if np.abs(poles).max() > np.abs(zeros).max():\n",
        "    roc = \"Outside circle with radius {}\".format(np.abs(poles).max())\n",
        "elif np.abs(poles).max() < np.abs(zeros).max():\n",
        "    roc = \"Inside circle with radius {}\".format(np.abs(zeros).max())\n",
        "else:\n",
        "    roc = \"Annulus\"\n",
        "    \n",
        "# Print the ROC\n",
        "print(\"ROC: \", roc)\n"
      ],
      "metadata": {
        "colab": {
          "base_uri": "https://localhost:8080/",
          "height": 0
        },
        "id": "HhUPhKMaMnw6",
        "outputId": "96cb535a-2c8b-416b-8d15-3901fca438f6"
      },
      "execution_count": 3,
      "outputs": [
        {
          "output_type": "stream",
          "name": "stdout",
          "text": [
            "Zeros:  [-1.+1.41421356j -1.-1.41421356j]\n",
            "Poles:  [-0.625+1.05326872j -0.625-1.05326872j]\n",
            "Gain:  0.25\n",
            "ROC:  Inside circle with radius 1.7320508075688772\n"
          ]
        }
      ]
    },
    {
      "cell_type": "markdown",
      "source": [
        "# Question: What do you mean by the following two lines?\n",
        "\n",
        "roc = \"Outside circle with radius {}\".format(np.abs(poles).max()) \n",
        "\n",
        "This line determines the region of convergence (ROC) of the transfer function by comparing the maximum magnitude of the poles to the maximum magnitude of the zeros. If the maximum magnitude of the poles is greater than the maximum magnitude of the zeros, then the ROC is outside a circle with radius equal to the maximum magnitude of the poles.\n",
        "\n",
        "The code uses the format() method of a string to insert the value of np.abs(poles).max() into the string \"Outside circle with radius {}\". Specifically, the {} serves as a placeholder for the value of np.abs(poles).max(), and the .format() method replaces the placeholder with the actual value.\n",
        "\n",
        "Here's an example to illustrate how this works:\n",
        "\n",
        "import numpy as np\n",
        "\n",
        "Define a string with a placeholder\n",
        "\n",
        "s = \"The maximum value is {}.\"\n",
        "\n",
        "Insert a value into the placeholder using the format method\n",
        "\n",
        "x = 42 result = s.format(x)\n",
        "\n",
        "Print the result\n",
        "\n",
        "print(result) In this example, we define a string s with a placeholder {}. We then use the format() method to insert the value of x into the placeholder, creating a new string result. Finally, we print the value of result, which is \"The maximum value is 42.\"."
      ],
      "metadata": {
        "id": "-tBmzSABgTAH"
      }
    }
  ],
  "metadata": {
    "colab": {
      "provenance": []
    },
    "kernelspec": {
      "display_name": "Python 3",
      "name": "python3"
    },
    "language_info": {
      "name": "python"
    }
  },
  "nbformat": 4,
  "nbformat_minor": 0
}