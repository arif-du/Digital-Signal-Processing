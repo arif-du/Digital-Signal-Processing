{
  "nbformat": 4,
  "nbformat_minor": 0,
  "metadata": {
    "colab": {
      "provenance": []
    },
    "kernelspec": {
      "name": "python3",
      "display_name": "Python 3"
    },
    "language_info": {
      "name": "python"
    }
  },
  "cells": [
    {
      "cell_type": "markdown",
      "source": [
        "#Experiment-9(a): To compute the Discrete Fourier Transform (DFT) of a discrete sequence in Python."
      ],
      "metadata": {
        "id": "SstB8F7neb-7"
      }
    },
    {
      "cell_type": "code",
      "source": [
        "import numpy as np\n",
        "\n",
        "# Define the input sequence\n",
        "x = np.array([1, 2, 3, 4, 5])\n",
        "\n",
        "# Compute the DFT of the sequence\n",
        "dft = np.fft.fft(x)\n",
        "\n",
        "# Print the DFT coefficients\n",
        "print(dft)"
      ],
      "metadata": {
        "colab": {
          "base_uri": "https://localhost:8080/"
        },
        "id": "R_KpmFq2elag",
        "outputId": "3c90e274-b05b-4a87-e978-da13061aa96d"
      },
      "execution_count": 7,
      "outputs": [
        {
          "output_type": "stream",
          "name": "stdout",
          "text": [
            "[15. +0.j         -2.5+3.4409548j  -2.5+0.81229924j -2.5-0.81229924j\n",
            " -2.5-3.4409548j ]\n"
          ]
        }
      ]
    },
    {
      "cell_type": "markdown",
      "source": [
        "In this example, we first define the input sequence x as a **numpy array** containing the values [1, 2, 3, 4, 5]. \n",
        "\n",
        "We then use the **numpy.fft.fft** function to compute the DFT of the sequence, which is stored in the variable dft. \n",
        "\n",
        "Finally, we print the DFT coefficients to the console.\n",
        "\n",
        "The numpy.fft.fft function computes the DFT using the Fast Fourier Transform (FFT) algorithm, which is an efficient algorithm for computing the DFT of a sequence. The function takes a one-dimensional array as its input, and returns a one-dimensional array of the same size that contains the DFT of the input sequence.\n",
        "\n",
        "Note that the DFT output is a complex-valued array, with the real and imaginary components representing the amplitude and phase of each frequency component. To plot the frequency spectrum, you can take the absolute value of the DFT output using the numpy.abs function, which will give you the magnitude of each frequency component regardless of its phase."
      ],
      "metadata": {
        "id": "itS0nxmlejwh"
      }
    },
    {
      "cell_type": "markdown",
      "source": [
        "**To plot the DFT coefficients of a discrete sequence in Python, you can use the matplotlib library. Here's an example code snippet:**"
      ],
      "metadata": {
        "id": "U_EKYTJRfJjA"
      }
    },
    {
      "cell_type": "code",
      "source": [
        "import numpy as np\n",
        "import matplotlib.pyplot as plt\n",
        "\n",
        "# Define the input sequence\n",
        "x = np.array([1, 2, 3, 4, 5])\n",
        "\n",
        "# Compute the DFT of the sequence\n",
        "dft = np.fft.fft(x)\n",
        "\n",
        "# Plot the frequency spectrum\n",
        "freq_axis = np.arange(len(x))\n",
        "plt.stem(freq_axis, np.abs(dft))\n",
        "plt.xlabel('Frequency (Hz)')\n",
        "plt.ylabel('Magnitude')\n",
        "plt.show()"
      ],
      "metadata": {
        "colab": {
          "base_uri": "https://localhost:8080/",
          "height": 334
        },
        "id": "Uex22OoxfSSR",
        "outputId": "854fc8d4-b3ae-4756-d5e0-9507c5647808"
      },
      "execution_count": 8,
      "outputs": [
        {
          "output_type": "stream",
          "name": "stderr",
          "text": [
            "<ipython-input-8-bd0ddded6707>:12: UserWarning: In Matplotlib 3.3 individual lines on a stem plot will be added as a LineCollection instead of individual lines. This significantly improves the performance of a stem plot. To remove this warning and switch to the new behaviour, set the \"use_line_collection\" keyword argument to True.\n",
            "  plt.stem(freq_axis, np.abs(dft))\n"
          ]
        },
        {
          "output_type": "display_data",
          "data": {
            "text/plain": [
              "<Figure size 432x288 with 1 Axes>"
            ],
            "image/png": "[encoded data removed]"
          },
          "metadata": {
            "needs_background": "light"
          }
        }
      ]
    },
    {
      "cell_type": "markdown",
      "source": [
        "In the code snippet freq_axis = np.arange(len(x)), we use the numpy.arange function to create an array of indices that represent the frequencies of the DFT coefficients.\n",
        "\n",
        "The numpy.arange function generates an array of evenly spaced values within a specified interval. In this case, we use the length of the input sequence x as the upper limit of the interval, which generates an array of integers from 0 to len(x) - 1.\n",
        "\n",
        "Since the DFT of a discrete sequence has the same length as the input sequence, each index of the frequency axis represents a frequency component of the DFT output, from 0 Hz (DC component) to the Nyquist frequency, which is half of the sampling rate.\n",
        "\n",
        "Note that the frequency axis values are not in Hz, but in arbitrary units that depend on the length of the input sequence and the sampling rate. To convert the frequency axis to Hz, you need to know the sampling rate of the input signal, and apply the formula:"
      ],
      "metadata": {
        "id": "IBs4rXk2flik"
      }
    },
    {
      "cell_type": "code",
      "source": [
        "f = k * fs / N"
      ],
      "metadata": {
        "id": "KNBmYMNWfpaa"
      },
      "execution_count": null,
      "outputs": []
    },
    {
      "cell_type": "markdown",
      "source": [
        "where f is the frequency in Hz, k is the index of the DFT coefficient, fs is the sampling rate in Hz, and N is the length of the input sequence. You can use this formula to create a frequency axis in Hz, like this:"
      ],
      "metadata": {
        "id": "4HtMO1Bsfs4B"
      }
    },
    {
      "cell_type": "code",
      "source": [
        "freq_axis_hz = np.arange(len(x)) * sample_rate / len(x)"
      ],
      "metadata": {
        "id": "PcJlT6y5fwKx"
      },
      "execution_count": null,
      "outputs": []
    },
    {
      "cell_type": "markdown",
      "source": [
        "Here, sample_rate is the sampling rate of the input signal in Hz, and we divide the index of each frequency component by the length of the input sequence to get a value in the range [0, 1]. We then multiply this value by the sampling rate to get a frequency in Hz."
      ],
      "metadata": {
        "id": "G8g1OiT4fyFy"
      }
    },
    {
      "cell_type": "markdown",
      "source": [
        "# Experiment-9(b): To compute the Discrete Fourier Transform (DFT) of a audio signal in Python."
      ],
      "metadata": {
        "id": "WIILlazaf58R"
      }
    },
    {
      "cell_type": "code",
      "source": [
        "import numpy as np\n",
        "from scipy.io import wavfile\n",
        "import matplotlib.pyplot as plt\n",
        "\n",
        "# Load audio file\n",
        "sample_rate, audio_data = wavfile.read('audio_file.wav')\n",
        "\n",
        "# Compute DFT of audio signal\n",
        "dft_data = np.fft.fft(audio_data)\n",
        "\n",
        "# Compute frequency axis\n",
        "freq_axis = np.fft.fftfreq(len(audio_data), 1.0/sample_rate)\n",
        "\n",
        "# Plot frequency spectrum\n",
        "plt.plot(freq_axis, np.abs(dft_data))\n",
        "plt.xlabel('Frequency (Hz)')\n",
        "plt.ylabel('Magnitude')\n",
        "plt.show()\n"
      ],
      "metadata": {
        "colab": {
          "base_uri": "https://localhost:8080/",
          "height": 279
        },
        "id": "A5L47i4uZ_QS",
        "outputId": "7e67623e-16a6-4ff1-e224-9a1061c59ba5"
      },
      "execution_count": 6,
      "outputs": [
        {
          "output_type": "display_data",
          "data": {
            "text/plain": [
              "<Figure size 432x288 with 1 Axes>"
            ],
            "image/png": "[encoded data removed]"
          },
          "metadata": {
            "needs_background": "light"
          }
        }
      ]
    },
    {
      "cell_type": "markdown",
      "source": [
        "# Load audio file\n",
        "sample_rate, audio_data = wavfile.read('audio_file.wav')\n",
        "\n",
        "We are using the **scipy.io.wavfile.read function** to read an audio file in WAV format and store the *sample rate* and *audio data* in two variables: sample_rate and audio_data, respectively.\n",
        "\n",
        "The scipy.io.wavfile.read function returns a tuple with two elements: the sample rate and the audio data.\n",
        "\n",
        "The sample rate is an integer value that specifies the number of samples per second in the audio signal, while the audio data is a NumPy array that contains the actual audio signal values.\n",
        "\n",
        "You can replace 'audio_file.wav' with the path and filename of your own audio file to read in your own data. Note that the WAV file must be in a format that is supported by the scipy.io.wavfile.read function, such as 8-bit or 16-bit PCM encoding."
      ],
      "metadata": {
        "id": "QezTjEHpbIGQ"
      }
    },
    {
      "cell_type": "markdown",
      "source": [
        "# Compute DFT of audio signal\n",
        "dft_data = np.fft.fft(audio_data) \n",
        "\n",
        "We are using the **numpy.fft.fft function** to compute the discrete Fourier transform (DFT) of the audio signal *audio_data*. The DFT is a mathematical transformation that converts a time-domain signal into a frequency-domain representation.\n",
        "\n",
        "The numpy.fft.fft function takes a one-dimensional array as its input, and returns a one-dimensional array of the same size that contains the DFT of the input signal. The DFT output is a complex-valued array, with the real and imaginary components representing the amplitude and phase of each frequency component.\n",
        "\n",
        "By default, the numpy.fft.fft function returns a one-sided spectrum, where the first half of the output array corresponds to the positive frequency components, and the second half corresponds to the negative frequency components. To plot the frequency spectrum, you can take the absolute value of the DFT output using the numpy.abs function, which will give you the magnitude of each frequency component regardless of its phase."
      ],
      "metadata": {
        "id": "HMjfrDU8baNy"
      }
    },
    {
      "cell_type": "markdown",
      "source": [
        "# Compute frequency axis\n",
        "freq_axis = np.fft.fftfreq(len(audio_data), 1.0/sample_rate)\n",
        "\n",
        "We are using the **numpy.fft.fftfreq** function to compute the frequency axis for the DFT output. The numpy.fft.fftfreq function takes two arguments: the length of the input signal, and the sampling interval (i.e., the inverse of the sample rate).\n",
        "\n",
        "The numpy.fft.fftfreq function returns a one-dimensional array of the same length as the input signal, with values that correspond to the frequencies of the DFT output. The values in the output array range from negative to positive frequencies, with the zero-frequency component at the center of the array.\n",
        "\n",
        "Note that the numpy.fft.fftfreq function expects the length of the input signal to be an even number. If the length of the input signal is odd, the function will automatically add an extra sample to the end of the signal with a value of zero, so that the signal length becomes even.\n",
        "\n",
        "In this line of code, we are computing the frequency axis in units of Hertz (Hz), which is the standard unit for measuring frequency in digital signal processing. The frequency axis can be used to plot the frequency spectrum of the signal, which shows the magnitudes of the different frequency components in the signal."
      ],
      "metadata": {
        "id": "c6qojhTAbqSj"
      }
    },
    {
      "cell_type": "markdown",
      "source": [
        "# Plot frequency spectrum\n",
        "plt.plot(freq_axis, np.abs(dft_data)\n",
        "\n",
        "We are using the **matplotlib.pyplot.plot** function to plot the frequency spectrum of the audio signal.\n",
        "\n",
        "The matplotlib.pyplot.plot function takes two one-dimensional arrays as its input: the x-values to plot on the horizontal axis, and the y-values to plot on the vertical axis. \n",
        "\n",
        "In this case, we are plotting the frequency axis freq_axis on the horizontal axis, and the magnitudes of the DFT output np.abs(dft_data) on the vertical axis. The np.abs function is used to take the absolute value of the complex-valued DFT output, which gives us the magnitude of each frequency component.\n",
        "\n",
        "The resulting plot shows the frequency spectrum of the audio signal, with the magnitudes of the frequency components plotted on the vertical axis and the corresponding frequencies plotted on the horizontal axis. This type of plot is commonly used in digital signal processing to visualize the frequency content of a signal.\n",
        "\n",
        "Note that the frequency spectrum of a signal can be used for various signal processing tasks, such as filtering out unwanted frequency components or extracting specific frequency bands of interest. The specific tasks you perform will depend on the goals of your project or application."
      ],
      "metadata": {
        "id": "6fu46KARdWDB"
      }
    }
  ]
}