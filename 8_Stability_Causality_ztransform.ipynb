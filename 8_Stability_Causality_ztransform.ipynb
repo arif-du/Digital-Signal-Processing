{
  "nbformat": 4,
  "nbformat_minor": 0,
  "metadata": {
    "colab": {
      "provenance": []
    },
    "kernelspec": {
      "name": "python3",
      "display_name": "Python 3"
    },
    "language_info": {
      "name": "python"
    }
  },
  "cells": [
    {
      "cell_type": "markdown",
      "source": [
        "# **Experiment 8: Explore how the z-transform can be used to analyze the stability and causality of the signal.**"
      ],
      "metadata": {
        "id": "SIgnAWlUV9po"
      }
    },
    {
      "cell_type": "markdown",
      "source": [
        "One of the most important applications of the z-transform is the analysis of the stability and causality of a signal. Let's see how this works in more detail:\n",
        "\n",
        "**Stability:** A discrete-time signal is said to be stable if its values do not grow to infinity over time. In other words, a stable signal will have a bounded response to a bounded input. The z-transform can be used to determine the stability of a signal by examining its region of convergence (ROC). The ROC is a region on the z-plane where the z-transform converges. If the ROC includes the unit circle (|z| = 1), the signal is said to be absolutely summable and hence stable. On the other hand, if the ROC does not include the unit circle, the signal is said to be unstable.\n",
        "\n",
        "**Causality:** A discrete-time signal is said to be causal if its values at any given time only depend on its past values. In other words, a causal signal cannot depend on future values of the signal. The z-transform can be used to determine the causality of a signal by examining its region of convergence. If the ROC includes the region outside a circle with a radius greater than zero, the signal is said to be right-sided and hence causal. If the ROC includes the region inside a circle with a radius greater than zero, the signal is said to be left-sided and hence anti-causal. If the ROC includes the entire z-plane, the signal is said to be two-sided and can be either causal or anti-causal."
      ],
      "metadata": {
        "id": "n_T6fgJhWp1B"
      }
    },
    {
      "cell_type": "code",
      "source": [
        "#import libraries\n",
        "import numpy as np\n",
        "import matplotlib.pyplot as plt\n",
        "from scipy import signal\n",
        "from scipy.signal import tf2zpk\n",
        "\n",
        "# Define the transfer function coefficients\n",
        "num = [1, 2, 3]\n",
        "den = [4, 5, 6]\n",
        "\n",
        "# Convert the transfer function to its zeros, poles, and gain representation\n",
        "zeros, poles, gain = tf2zpk(num, den)\n",
        "\n",
        "# Print the zeros, poles, and gain\n",
        "print(\"Zeros: \", zeros)\n",
        "print(\"Poles: \", poles)\n",
        "print(\"Gain: \", gain)\n",
        "\n",
        "# Explore the stability and causality of the signal\n",
        "if np.all(np.abs(p) < 1):\n",
        "    print(\"The signal is stable\")\n",
        "else:\n",
        "    print(\"The signal is unstable\")\n",
        "\n",
        "if np.all(np.real(p) < 0):\n",
        "    print(\"The signal is causal\")\n",
        "else:\n",
        "    print(\"The signal is non-causal\")\n"
      ],
      "metadata": {
        "colab": {
          "base_uri": "https://localhost:8080/"
        },
        "id": "fUBq0sTNGN48",
        "outputId": "850d8ede-45fe-4ed9-e121-bdb2e26c90ae"
      },
      "execution_count": 5,
      "outputs": [
        {
          "output_type": "stream",
          "name": "stdout",
          "text": [
            "Zeros:  [-1.+1.41421356j -1.-1.41421356j]\n",
            "Poles:  [-0.625+1.05326872j -0.625-1.05326872j]\n",
            "Gain:  0.25\n",
            "The signal is unstable\n",
            "The signal is non-causal\n"
          ]
        }
      ]
    }
  ]
}